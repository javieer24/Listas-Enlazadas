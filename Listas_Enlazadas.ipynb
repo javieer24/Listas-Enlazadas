{
  "nbformat": 4,
  "nbformat_minor": 0,
  "metadata": {
    "colab": {
      "provenance": [],
      "authorship_tag": "ABX9TyMOf0sc66YpuQvSMaWdbKz6",
      "include_colab_link": true
    },
    "kernelspec": {
      "name": "python3",
      "display_name": "Python 3"
    },
    "language_info": {
      "name": "python"
    }
  },
  "cells": [
    {
      "cell_type": "markdown",
      "metadata": {
        "id": "view-in-github",
        "colab_type": "text"
      },
      "source": [
        "<a href=\"https://colab.research.google.com/github/javieer24/Listas-Enlazadas/blob/main/Listas_Enlazadas.ipynb\" target=\"_parent\"><img src=\"https://colab.research.google.com/assets/colab-badge.svg\" alt=\"Open In Colab\"/></a>"
      ]
    },
    {
      "cell_type": "markdown",
      "source": [
        "##**Listas Enlazadas**\n",
        "**Definición de la clase nota**"
      ],
      "metadata": {
        "id": "CFrHrcyLVxP7"
      }
    },
    {
      "cell_type": "code",
      "source": [
        "class nota:\n",
        "  def __init__(self, usuario, titulo, libreta, contenido, fecha_creacion, fecha_modificacion, tipo_acceso ):\n",
        "    self.usuario= usuario\n",
        "    self.titulo= titulo\n",
        "    self.libreta= libreta\n",
        "    self.contenido= contenido\n",
        "    self.fecha_creacion= fecha_creacion\n",
        "    self.fecha_modificacion= fecha_modificacion\n",
        "    self.tipo_acceso= tipo_acceso"
      ],
      "metadata": {
        "id": "jxDsVgSS7JgB"
      },
      "execution_count": null,
      "outputs": []
    },
    {
      "cell_type": "markdown",
      "source": [
        "**Definición de la clase Nodo**"
      ],
      "metadata": {
        "id": "euVju52m7KNz"
      }
    },
    {
      "cell_type": "code",
      "source": [
        "class nodo:\n",
        "  def __init__(self, nota=None, siguiente=None):\n",
        "      self.nota= nota\n",
        "      self.siguiente= siguiente"
      ],
      "metadata": {
        "id": "HTVUAF0f7Jy_"
      },
      "execution_count": null,
      "outputs": []
    },
    {
      "cell_type": "markdown",
      "source": [
        "**Definición de la clase Lista Enlazada**"
      ],
      "metadata": {
        "id": "09xWtG92YUtb"
      }
    },
    {
      "cell_type": "code",
      "source": [
        "class lista_enlazada:\n",
        "  def __init__(self):\n",
        "    self.primero = None\n",
        "\n",
        "  def insertar(self, nota):\n",
        "    if self.primero is None:\n",
        "      self.primero = nodo(nota=nota)\n",
        "      return\n",
        "    actual = self.primero\n",
        "    while actual.siguiente:\n",
        "      actual = actual.siguiente\n",
        "    actual.siguiente = nodo(nota=nota)\n",
        "\n",
        "  def recorrer(self):\n",
        "    actual=self.primero\n",
        "    while actual != None:\n",
        "      print(\"Usuario: \", actual.nota.usuario, \" | Titulo: \", actual.nota.titulo,\" | Libreta: \", actual.nota.libreta,\" | Contenido: \", actual.nota.contenido,\" | Fecha de creación: \", actual.nota.fecha_creacion,\n",
        "            \" | Fecha de modificación: \", actual.nota.fecha_modificacion,\n",
        "            \" | Tipo acceso: \", actual.nota.tipo_acceso)\n",
        "      actual = actual.siguiente\n",
        "\n",
        "  def eliminar(self, usuario):\n",
        "    actual = self.primero\n",
        "    anterior = None\n",
        "\n",
        "    while actual and actual.nota.usuario != usuario:\n",
        "      anterior = actual\n",
        "      actual = actual.siguiente\n",
        "\n",
        "    if anterior is None:\n",
        "      self.primero = actual .siguiente\n",
        "      actual.siguiente = None\n",
        "    elif actual:\n",
        "      anterior.siguiente = actual.siguiente\n",
        "      actual.siguiente = None\n",
        "\n",
        "  def busca(self, usuario):\n",
        "    actual = self.primero\n",
        "    while actual:\n",
        "        if actual.nota.usuario == usuario:\n",
        "            print(\"Usuario: \", actual.nota.usuario, \" | Titulo: \", actual.nota.titulo,\" | Libreta: \", actual.nota.libreta,\" | Contenido: \", actual.nota.contenido,\" | Fecha de creación: \", actual.nota.fecha_creacion,\n",
        "                  \" | Fecha de modificación: \", actual.nota.fecha_modificacion,\n",
        "                  \" | Tipo acceso: \", actual.nota.tipo_acceso)\n",
        "            return\n",
        "        actual = actual.siguiente\n",
        "    print(\"No se encontró el usuario especificado\")\n",
        "\n"
      ],
      "metadata": {
        "id": "hzsIE1S7Y4jK"
      },
      "execution_count": null,
      "outputs": []
    },
    {
      "cell_type": "markdown",
      "source": [
        "**Creación de Objetos Nota**"
      ],
      "metadata": {
        "id": "_Kt4iD1PitH0"
      }
    },
    {
      "cell_type": "code",
      "source": [
        "n1 = nota(\"Gerson López\",\"Minuta de reunión\", \"Reuniones\", \"Organización del proyecto\", \"25-07-2022\", \"29-07-2022\", \"Privado\")\n",
        "n2 = nota(\"Karen Gómez\",\"Sprint\",\"Metodología de desarrollo\",\"No se tienen definidos los requerimientos\",\"20-06-2022\",\"30-06-2022\",\"Público\")\n",
        "n3 = nota(\"Luis Gracía\",\"Temas de discusión\",\"Foro de tecnología\",\"Transformación digital e innovación tecnológica\",\"02-07-2022\",\"05-07-2022\",\"Privado\")"
      ],
      "metadata": {
        "id": "vqNdVZvNfHHt"
      },
      "execution_count": null,
      "outputs": []
    },
    {
      "cell_type": "markdown",
      "source": [
        "**Inserción**"
      ],
      "metadata": {
        "id": "a38eEtJ9h0NJ"
      }
    },
    {
      "cell_type": "code",
      "source": [
        "lista_e = lista_enlazada()\n",
        "lista_e.insertar(n1)\n",
        "lista_e.insertar(n2)\n",
        "lista_e.insertar(n3)"
      ],
      "metadata": {
        "id": "RsfgQgi5lkh3"
      },
      "execution_count": null,
      "outputs": []
    },
    {
      "cell_type": "markdown",
      "source": [
        "**Recorrer Lista**"
      ],
      "metadata": {
        "id": "Pc2o7qf_rVyA"
      }
    },
    {
      "cell_type": "code",
      "source": [
        "lista_e.recorrer()"
      ],
      "metadata": {
        "colab": {
          "base_uri": "https://localhost:8080/"
        },
        "id": "CLNTDB-nrayN",
        "outputId": "0dbb9e67-d502-49b9-86ea-757e605d36d4"
      },
      "execution_count": null,
      "outputs": [
        {
          "output_type": "stream",
          "name": "stdout",
          "text": [
            "Usuario:  Gerson López  | Titulo:  Minuta de reunión  | Libreta:  Reuniones  | Contenido:  Organización del proyecto  | Fecha de creación:  25-07-2022  | Fecha de modificación:  29-07-2022  | Tipo acceso:  Privado\n",
            "Usuario:  Karen Gómez  | Titulo:  Sprint  | Libreta:  Metodología de desarrollo  | Contenido:  No se tienen definidos los requerimientos  | Fecha de creación:  20-06-2022  | Fecha de modificación:  30-06-2022  | Tipo acceso:  Público\n",
            "Usuario:  Luis Gracía  | Titulo:  Temas de discusión  | Libreta:  Foro de tecnología  | Contenido:  Transformación digital e innovación tecnológica  | Fecha de creación:  02-07-2022  | Fecha de modificación:  05-07-2022  | Tipo acceso:  Privado\n"
          ]
        }
      ]
    },
    {
      "cell_type": "markdown",
      "source": [
        "**Eliminar Nodo**"
      ],
      "metadata": {
        "id": "xf91Sy91qfXL"
      }
    },
    {
      "cell_type": "code",
      "source": [
        "lista_e.eliminar(\"Karen Gómez\")\n",
        "lista_e.recorrer()"
      ],
      "metadata": {
        "colab": {
          "base_uri": "https://localhost:8080/"
        },
        "id": "kGLHeKnRqi2l",
        "outputId": "1f030bea-ffe0-4f44-894f-4717cc54483e"
      },
      "execution_count": null,
      "outputs": [
        {
          "output_type": "stream",
          "name": "stdout",
          "text": [
            "Usuario:  Gerson López  | Titulo:  Minuta de reunión  | Libreta:  Reuniones  | Contenido:  Organización del proyecto  | Fecha de creación:  25-07-2022  | Fecha de modificación:  29-07-2022  | Tipo acceso:  Privado\n",
            "Usuario:  Luis Gracía  | Titulo:  Temas de discusión  | Libreta:  Foro de tecnología  | Contenido:  Transformación digital e innovación tecnológica  | Fecha de creación:  02-07-2022  | Fecha de modificación:  05-07-2022  | Tipo acceso:  Privado\n"
          ]
        }
      ]
    },
    {
      "cell_type": "markdown",
      "source": [
        "**Buscar un nodo** **texto en negrita**"
      ],
      "metadata": {
        "id": "jn26BDnZsSLj"
      }
    },
    {
      "cell_type": "code",
      "source": [
        "lista_e.busca(\"Luis Gracía\")\n",
        "\n"
      ],
      "metadata": {
        "colab": {
          "base_uri": "https://localhost:8080/"
        },
        "id": "2nzPUgfMsWgr",
        "outputId": "39a6629c-83c6-4309-8fb0-8c98db922665"
      },
      "execution_count": null,
      "outputs": [
        {
          "output_type": "stream",
          "name": "stdout",
          "text": [
            "Usuario:  Luis Gracía  | Titulo:  Temas de discusión  | Libreta:  Foro de tecnología  | Contenido:  Transformación digital e innovación tecnológica  | Fecha de creación:  02-07-2022  | Fecha de modificación:  05-07-2022  | Tipo acceso:  Privado\n"
          ]
        }
      ]
    }
  ]
}